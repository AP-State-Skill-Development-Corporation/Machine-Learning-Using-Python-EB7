{
 "cells": [
  {
   "cell_type": "markdown",
   "metadata": {},
   "source": [
    "### Good Evening to all"
   ]
  },
  {
   "cell_type": "markdown",
   "metadata": {},
   "source": [
    "### Random Forest Algorithm\n",
    "- efficient results for the large datsets\n",
    "- works better even though dataset has missing values"
   ]
  },
  {
   "cell_type": "code",
   "execution_count": 4,
   "metadata": {},
   "outputs": [
    {
     "data": {
      "text/html": [
       "<div>\n",
       "<style scoped>\n",
       "    .dataframe tbody tr th:only-of-type {\n",
       "        vertical-align: middle;\n",
       "    }\n",
       "\n",
       "    .dataframe tbody tr th {\n",
       "        vertical-align: top;\n",
       "    }\n",
       "\n",
       "    .dataframe thead th {\n",
       "        text-align: right;\n",
       "    }\n",
       "</style>\n",
       "<table border=\"1\" class=\"dataframe\">\n",
       "  <thead>\n",
       "    <tr style=\"text-align: right;\">\n",
       "      <th></th>\n",
       "      <th>id</th>\n",
       "      <th>huml</th>\n",
       "      <th>humw</th>\n",
       "      <th>ulnal</th>\n",
       "      <th>ulnaw</th>\n",
       "      <th>feml</th>\n",
       "      <th>femw</th>\n",
       "      <th>tibl</th>\n",
       "      <th>tibw</th>\n",
       "      <th>tarl</th>\n",
       "      <th>tarw</th>\n",
       "      <th>type</th>\n",
       "    </tr>\n",
       "  </thead>\n",
       "  <tbody>\n",
       "    <tr>\n",
       "      <th>0</th>\n",
       "      <td>0</td>\n",
       "      <td>80.78</td>\n",
       "      <td>6.68</td>\n",
       "      <td>72.01</td>\n",
       "      <td>4.88</td>\n",
       "      <td>41.81</td>\n",
       "      <td>3.70</td>\n",
       "      <td>5.50</td>\n",
       "      <td>4.03</td>\n",
       "      <td>38.70</td>\n",
       "      <td>3.84</td>\n",
       "      <td>SW</td>\n",
       "    </tr>\n",
       "    <tr>\n",
       "      <th>1</th>\n",
       "      <td>1</td>\n",
       "      <td>88.91</td>\n",
       "      <td>6.63</td>\n",
       "      <td>80.53</td>\n",
       "      <td>5.59</td>\n",
       "      <td>47.04</td>\n",
       "      <td>4.30</td>\n",
       "      <td>80.22</td>\n",
       "      <td>4.51</td>\n",
       "      <td>41.50</td>\n",
       "      <td>4.01</td>\n",
       "      <td>SW</td>\n",
       "    </tr>\n",
       "    <tr>\n",
       "      <th>2</th>\n",
       "      <td>2</td>\n",
       "      <td>79.97</td>\n",
       "      <td>6.37</td>\n",
       "      <td>69.26</td>\n",
       "      <td>5.28</td>\n",
       "      <td>43.07</td>\n",
       "      <td>3.90</td>\n",
       "      <td>75.35</td>\n",
       "      <td>4.04</td>\n",
       "      <td>38.31</td>\n",
       "      <td>3.34</td>\n",
       "      <td>SW</td>\n",
       "    </tr>\n",
       "    <tr>\n",
       "      <th>3</th>\n",
       "      <td>3</td>\n",
       "      <td>77.65</td>\n",
       "      <td>5.70</td>\n",
       "      <td>65.76</td>\n",
       "      <td>4.77</td>\n",
       "      <td>40.04</td>\n",
       "      <td>3.52</td>\n",
       "      <td>69.17</td>\n",
       "      <td>3.40</td>\n",
       "      <td>35.78</td>\n",
       "      <td>3.41</td>\n",
       "      <td>SW</td>\n",
       "    </tr>\n",
       "    <tr>\n",
       "      <th>4</th>\n",
       "      <td>4</td>\n",
       "      <td>62.80</td>\n",
       "      <td>4.84</td>\n",
       "      <td>52.09</td>\n",
       "      <td>3.73</td>\n",
       "      <td>33.95</td>\n",
       "      <td>2.72</td>\n",
       "      <td>56.27</td>\n",
       "      <td>2.96</td>\n",
       "      <td>31.88</td>\n",
       "      <td>3.13</td>\n",
       "      <td>SW</td>\n",
       "    </tr>\n",
       "  </tbody>\n",
       "</table>\n",
       "</div>"
      ],
      "text/plain": [
       "   id   huml  humw  ulnal  ulnaw   feml  femw   tibl  tibw   tarl  tarw type\n",
       "0   0  80.78  6.68  72.01   4.88  41.81  3.70   5.50  4.03  38.70  3.84   SW\n",
       "1   1  88.91  6.63  80.53   5.59  47.04  4.30  80.22  4.51  41.50  4.01   SW\n",
       "2   2  79.97  6.37  69.26   5.28  43.07  3.90  75.35  4.04  38.31  3.34   SW\n",
       "3   3  77.65  5.70  65.76   4.77  40.04  3.52  69.17  3.40  35.78  3.41   SW\n",
       "4   4  62.80  4.84  52.09   3.73  33.95  2.72  56.27  2.96  31.88  3.13   SW"
      ]
     },
     "execution_count": 4,
     "metadata": {},
     "output_type": "execute_result"
    }
   ],
   "source": [
    "import pandas as pd\n",
    "df=pd.read_csv(\"birds.csv\")\n",
    "df.head()"
   ]
  },
  {
   "cell_type": "code",
   "execution_count": 5,
   "metadata": {},
   "outputs": [
    {
     "data": {
      "text/plain": [
       "array(['SW', 'W', 'T', 'R', 'P', 'SO'], dtype=object)"
      ]
     },
     "execution_count": 5,
     "metadata": {},
     "output_type": "execute_result"
    }
   ],
   "source": [
    "df[\"type\"].unique()"
   ]
  },
  {
   "cell_type": "code",
   "execution_count": 6,
   "metadata": {
    "collapsed": true
   },
   "outputs": [
    {
     "data": {
      "text/html": [
       "<div>\n",
       "<style scoped>\n",
       "    .dataframe tbody tr th:only-of-type {\n",
       "        vertical-align: middle;\n",
       "    }\n",
       "\n",
       "    .dataframe tbody tr th {\n",
       "        vertical-align: top;\n",
       "    }\n",
       "\n",
       "    .dataframe thead th {\n",
       "        text-align: right;\n",
       "    }\n",
       "</style>\n",
       "<table border=\"1\" class=\"dataframe\">\n",
       "  <thead>\n",
       "    <tr style=\"text-align: right;\">\n",
       "      <th></th>\n",
       "      <th>id</th>\n",
       "      <th>huml</th>\n",
       "      <th>humw</th>\n",
       "      <th>ulnal</th>\n",
       "      <th>ulnaw</th>\n",
       "      <th>feml</th>\n",
       "      <th>femw</th>\n",
       "      <th>tibl</th>\n",
       "      <th>tibw</th>\n",
       "      <th>tarl</th>\n",
       "      <th>tarw</th>\n",
       "      <th>type</th>\n",
       "    </tr>\n",
       "  </thead>\n",
       "  <tbody>\n",
       "    <tr>\n",
       "      <th>0</th>\n",
       "      <td>0</td>\n",
       "      <td>80.78</td>\n",
       "      <td>6.68</td>\n",
       "      <td>72.01</td>\n",
       "      <td>4.88</td>\n",
       "      <td>41.81</td>\n",
       "      <td>3.70</td>\n",
       "      <td>5.50</td>\n",
       "      <td>4.03</td>\n",
       "      <td>38.70</td>\n",
       "      <td>3.84</td>\n",
       "      <td>3</td>\n",
       "    </tr>\n",
       "    <tr>\n",
       "      <th>1</th>\n",
       "      <td>1</td>\n",
       "      <td>88.91</td>\n",
       "      <td>6.63</td>\n",
       "      <td>80.53</td>\n",
       "      <td>5.59</td>\n",
       "      <td>47.04</td>\n",
       "      <td>4.30</td>\n",
       "      <td>80.22</td>\n",
       "      <td>4.51</td>\n",
       "      <td>41.50</td>\n",
       "      <td>4.01</td>\n",
       "      <td>3</td>\n",
       "    </tr>\n",
       "    <tr>\n",
       "      <th>2</th>\n",
       "      <td>2</td>\n",
       "      <td>79.97</td>\n",
       "      <td>6.37</td>\n",
       "      <td>69.26</td>\n",
       "      <td>5.28</td>\n",
       "      <td>43.07</td>\n",
       "      <td>3.90</td>\n",
       "      <td>75.35</td>\n",
       "      <td>4.04</td>\n",
       "      <td>38.31</td>\n",
       "      <td>3.34</td>\n",
       "      <td>3</td>\n",
       "    </tr>\n",
       "    <tr>\n",
       "      <th>3</th>\n",
       "      <td>3</td>\n",
       "      <td>77.65</td>\n",
       "      <td>5.70</td>\n",
       "      <td>65.76</td>\n",
       "      <td>4.77</td>\n",
       "      <td>40.04</td>\n",
       "      <td>3.52</td>\n",
       "      <td>69.17</td>\n",
       "      <td>3.40</td>\n",
       "      <td>35.78</td>\n",
       "      <td>3.41</td>\n",
       "      <td>3</td>\n",
       "    </tr>\n",
       "    <tr>\n",
       "      <th>4</th>\n",
       "      <td>4</td>\n",
       "      <td>62.80</td>\n",
       "      <td>4.84</td>\n",
       "      <td>52.09</td>\n",
       "      <td>3.73</td>\n",
       "      <td>33.95</td>\n",
       "      <td>2.72</td>\n",
       "      <td>56.27</td>\n",
       "      <td>2.96</td>\n",
       "      <td>31.88</td>\n",
       "      <td>3.13</td>\n",
       "      <td>3</td>\n",
       "    </tr>\n",
       "  </tbody>\n",
       "</table>\n",
       "</div>"
      ],
      "text/plain": [
       "   id   huml  humw  ulnal  ulnaw   feml  femw   tibl  tibw   tarl  tarw  type\n",
       "0   0  80.78  6.68  72.01   4.88  41.81  3.70   5.50  4.03  38.70  3.84     3\n",
       "1   1  88.91  6.63  80.53   5.59  47.04  4.30  80.22  4.51  41.50  4.01     3\n",
       "2   2  79.97  6.37  69.26   5.28  43.07  3.90  75.35  4.04  38.31  3.34     3\n",
       "3   3  77.65  5.70  65.76   4.77  40.04  3.52  69.17  3.40  35.78  3.41     3\n",
       "4   4  62.80  4.84  52.09   3.73  33.95  2.72  56.27  2.96  31.88  3.13     3"
      ]
     },
     "execution_count": 6,
     "metadata": {},
     "output_type": "execute_result"
    }
   ],
   "source": [
    "from sklearn.preprocessing import LabelEncoder\n",
    "le=LabelEncoder()\n",
    "df[\"type\"]=le.fit_transform(df[\"type\"])\n",
    "df.head()"
   ]
  },
  {
   "cell_type": "code",
   "execution_count": 7,
   "metadata": {},
   "outputs": [
    {
     "data": {
      "text/plain": [
       "array([3, 5, 4, 1, 0, 2], dtype=int64)"
      ]
     },
     "execution_count": 7,
     "metadata": {},
     "output_type": "execute_result"
    }
   ],
   "source": [
    "df[\"type\"].unique()"
   ]
  },
  {
   "cell_type": "code",
   "execution_count": 8,
   "metadata": {},
   "outputs": [
    {
     "data": {
      "text/plain": [
       "id       0\n",
       "huml     1\n",
       "humw     1\n",
       "ulnal    3\n",
       "ulnaw    2\n",
       "feml     2\n",
       "femw     1\n",
       "tibl     2\n",
       "tibw     1\n",
       "tarl     1\n",
       "tarw     1\n",
       "type     0\n",
       "dtype: int64"
      ]
     },
     "execution_count": 8,
     "metadata": {},
     "output_type": "execute_result"
    }
   ],
   "source": [
    "df.isna().sum()"
   ]
  },
  {
   "cell_type": "code",
   "execution_count": 9,
   "metadata": {},
   "outputs": [],
   "source": [
    "#replacing all the values with zero\n",
    "import numpy as np\n",
    "df=df.replace(np.nan,0.0)"
   ]
  },
  {
   "cell_type": "code",
   "execution_count": 10,
   "metadata": {},
   "outputs": [
    {
     "data": {
      "text/plain": [
       "id       0\n",
       "huml     0\n",
       "humw     0\n",
       "ulnal    0\n",
       "ulnaw    0\n",
       "feml     0\n",
       "femw     0\n",
       "tibl     0\n",
       "tibw     0\n",
       "tarl     0\n",
       "tarw     0\n",
       "type     0\n",
       "dtype: int64"
      ]
     },
     "execution_count": 10,
     "metadata": {},
     "output_type": "execute_result"
    }
   ],
   "source": [
    "df.isna().sum()"
   ]
  },
  {
   "cell_type": "code",
   "execution_count": 12,
   "metadata": {
    "collapsed": true
   },
   "outputs": [
    {
     "data": {
      "text/html": [
       "<div>\n",
       "<style scoped>\n",
       "    .dataframe tbody tr th:only-of-type {\n",
       "        vertical-align: middle;\n",
       "    }\n",
       "\n",
       "    .dataframe tbody tr th {\n",
       "        vertical-align: top;\n",
       "    }\n",
       "\n",
       "    .dataframe thead th {\n",
       "        text-align: right;\n",
       "    }\n",
       "</style>\n",
       "<table border=\"1\" class=\"dataframe\">\n",
       "  <thead>\n",
       "    <tr style=\"text-align: right;\">\n",
       "      <th></th>\n",
       "      <th>huml</th>\n",
       "      <th>humw</th>\n",
       "      <th>ulnal</th>\n",
       "      <th>ulnaw</th>\n",
       "      <th>feml</th>\n",
       "      <th>femw</th>\n",
       "      <th>tibl</th>\n",
       "      <th>tibw</th>\n",
       "      <th>tarl</th>\n",
       "      <th>tarw</th>\n",
       "    </tr>\n",
       "  </thead>\n",
       "  <tbody>\n",
       "    <tr>\n",
       "      <th>0</th>\n",
       "      <td>80.78</td>\n",
       "      <td>6.68</td>\n",
       "      <td>72.01</td>\n",
       "      <td>4.88</td>\n",
       "      <td>41.81</td>\n",
       "      <td>3.70</td>\n",
       "      <td>5.50</td>\n",
       "      <td>4.03</td>\n",
       "      <td>38.70</td>\n",
       "      <td>3.84</td>\n",
       "    </tr>\n",
       "    <tr>\n",
       "      <th>1</th>\n",
       "      <td>88.91</td>\n",
       "      <td>6.63</td>\n",
       "      <td>80.53</td>\n",
       "      <td>5.59</td>\n",
       "      <td>47.04</td>\n",
       "      <td>4.30</td>\n",
       "      <td>80.22</td>\n",
       "      <td>4.51</td>\n",
       "      <td>41.50</td>\n",
       "      <td>4.01</td>\n",
       "    </tr>\n",
       "    <tr>\n",
       "      <th>2</th>\n",
       "      <td>79.97</td>\n",
       "      <td>6.37</td>\n",
       "      <td>69.26</td>\n",
       "      <td>5.28</td>\n",
       "      <td>43.07</td>\n",
       "      <td>3.90</td>\n",
       "      <td>75.35</td>\n",
       "      <td>4.04</td>\n",
       "      <td>38.31</td>\n",
       "      <td>3.34</td>\n",
       "    </tr>\n",
       "    <tr>\n",
       "      <th>3</th>\n",
       "      <td>77.65</td>\n",
       "      <td>5.70</td>\n",
       "      <td>65.76</td>\n",
       "      <td>4.77</td>\n",
       "      <td>40.04</td>\n",
       "      <td>3.52</td>\n",
       "      <td>69.17</td>\n",
       "      <td>3.40</td>\n",
       "      <td>35.78</td>\n",
       "      <td>3.41</td>\n",
       "    </tr>\n",
       "    <tr>\n",
       "      <th>4</th>\n",
       "      <td>62.80</td>\n",
       "      <td>4.84</td>\n",
       "      <td>52.09</td>\n",
       "      <td>3.73</td>\n",
       "      <td>33.95</td>\n",
       "      <td>2.72</td>\n",
       "      <td>56.27</td>\n",
       "      <td>2.96</td>\n",
       "      <td>31.88</td>\n",
       "      <td>3.13</td>\n",
       "    </tr>\n",
       "  </tbody>\n",
       "</table>\n",
       "</div>"
      ],
      "text/plain": [
       "    huml  humw  ulnal  ulnaw   feml  femw   tibl  tibw   tarl  tarw\n",
       "0  80.78  6.68  72.01   4.88  41.81  3.70   5.50  4.03  38.70  3.84\n",
       "1  88.91  6.63  80.53   5.59  47.04  4.30  80.22  4.51  41.50  4.01\n",
       "2  79.97  6.37  69.26   5.28  43.07  3.90  75.35  4.04  38.31  3.34\n",
       "3  77.65  5.70  65.76   4.77  40.04  3.52  69.17  3.40  35.78  3.41\n",
       "4  62.80  4.84  52.09   3.73  33.95  2.72  56.27  2.96  31.88  3.13"
      ]
     },
     "execution_count": 12,
     "metadata": {},
     "output_type": "execute_result"
    }
   ],
   "source": [
    "x=df.iloc[:,1:11]\n",
    "x.head()"
   ]
  },
  {
   "cell_type": "code",
   "execution_count": 30,
   "metadata": {
    "collapsed": true
   },
   "outputs": [
    {
     "name": "stderr",
     "output_type": "stream",
     "text": [
      "C:\\Users\\Public\\Anaconda3\\lib\\site-packages\\sklearn\\ensemble\\forest.py:245: FutureWarning: The default value of n_estimators will change from 10 in version 0.20 to 100 in 0.22.\n",
      "  \"10 in version 0.20 to 100 in 0.22.\", FutureWarning)\n"
     ]
    },
    {
     "data": {
      "text/plain": [
       "RandomForestClassifier(bootstrap=True, class_weight=None, criterion='gini',\n",
       "                       max_depth=None, max_features='auto', max_leaf_nodes=None,\n",
       "                       min_impurity_decrease=0.0, min_impurity_split=None,\n",
       "                       min_samples_leaf=1, min_samples_split=2,\n",
       "                       min_weight_fraction_leaf=0.0, n_estimators=10,\n",
       "                       n_jobs=None, oob_score=False, random_state=None,\n",
       "                       verbose=0, warm_start=False)"
      ]
     },
     "execution_count": 30,
     "metadata": {},
     "output_type": "execute_result"
    }
   ],
   "source": [
    "y=df[\"type\"]\n",
    "from sklearn.model_selection import train_test_split\n",
    "x_train,x_test,y_train,y_test=train_test_split(x,y,test_size=0.1,random_state=100)\n",
    "from sklearn.ensemble import RandomForestClassifier\n",
    "model=RandomForestClassifier()\n",
    "model.fit(x_train,y_train)"
   ]
  },
  {
   "cell_type": "code",
   "execution_count": 31,
   "metadata": {},
   "outputs": [
    {
     "data": {
      "text/plain": [
       "array([5, 0, 2, 5, 3, 3, 2, 0, 1, 3, 1, 3, 2, 1, 2, 5, 2, 1, 3, 2, 2, 2,\n",
       "       1, 0, 1, 4, 5, 2, 2, 0, 0, 1, 2, 2, 5, 2, 2, 0, 3, 3, 2, 2])"
      ]
     },
     "execution_count": 31,
     "metadata": {},
     "output_type": "execute_result"
    }
   ],
   "source": [
    "y_pred=model.predict(x_test)\n",
    "y_pred"
   ]
  },
  {
   "cell_type": "code",
   "execution_count": 32,
   "metadata": {},
   "outputs": [
    {
     "name": "stdout",
     "output_type": "stream",
     "text": [
      "0.8571428571428571\n"
     ]
    }
   ],
   "source": [
    "from sklearn.metrics import accuracy_score,confusion_matrix\n",
    "print(accuracy_score(y_test,y_pred))"
   ]
  },
  {
   "cell_type": "markdown",
   "metadata": {},
   "source": [
    "#### Unsupervised learning\n",
    "- train your machine on unlabelled without any guidance\n",
    "- Clustering--grouping of similar datapoints into clusters\n",
    "- Association"
   ]
  },
  {
   "cell_type": "markdown",
   "metadata": {},
   "source": [
    "***Clustering***\n",
    "* K-Means(k-no of clusters)\n",
    "    - choose the optimal value of k\n",
    "    - initializing the centroids\n",
    "    - finding out mean and distances\n",
    "    - repeat step 2 and 3 untill convergence"
   ]
  },
  {
   "cell_type": "code",
   "execution_count": 34,
   "metadata": {},
   "outputs": [
    {
     "data": {
      "text/plain": [
       "dict_keys(['data', 'target', 'target_names', 'DESCR', 'feature_names', 'filename'])"
      ]
     },
     "execution_count": 34,
     "metadata": {},
     "output_type": "execute_result"
    }
   ],
   "source": [
    "from sklearn.datasets import load_iris\n",
    "iris=load_iris()\n",
    "iris.keys()"
   ]
  },
  {
   "cell_type": "code",
   "execution_count": 38,
   "metadata": {},
   "outputs": [
    {
     "data": {
      "text/html": [
       "<div>\n",
       "<style scoped>\n",
       "    .dataframe tbody tr th:only-of-type {\n",
       "        vertical-align: middle;\n",
       "    }\n",
       "\n",
       "    .dataframe tbody tr th {\n",
       "        vertical-align: top;\n",
       "    }\n",
       "\n",
       "    .dataframe thead th {\n",
       "        text-align: right;\n",
       "    }\n",
       "</style>\n",
       "<table border=\"1\" class=\"dataframe\">\n",
       "  <thead>\n",
       "    <tr style=\"text-align: right;\">\n",
       "      <th></th>\n",
       "      <th>sepal length (cm)</th>\n",
       "      <th>sepal width (cm)</th>\n",
       "      <th>petal length (cm)</th>\n",
       "      <th>petal width (cm)</th>\n",
       "    </tr>\n",
       "  </thead>\n",
       "  <tbody>\n",
       "    <tr>\n",
       "      <th>0</th>\n",
       "      <td>5.1</td>\n",
       "      <td>3.5</td>\n",
       "      <td>1.4</td>\n",
       "      <td>0.2</td>\n",
       "    </tr>\n",
       "    <tr>\n",
       "      <th>1</th>\n",
       "      <td>4.9</td>\n",
       "      <td>3.0</td>\n",
       "      <td>1.4</td>\n",
       "      <td>0.2</td>\n",
       "    </tr>\n",
       "  </tbody>\n",
       "</table>\n",
       "</div>"
      ],
      "text/plain": [
       "   sepal length (cm)  sepal width (cm)  petal length (cm)  petal width (cm)\n",
       "0                5.1               3.5                1.4               0.2\n",
       "1                4.9               3.0                1.4               0.2"
      ]
     },
     "execution_count": 38,
     "metadata": {},
     "output_type": "execute_result"
    }
   ],
   "source": [
    "df=pd.DataFrame(iris.data,columns=iris.feature_names)\n",
    "df.head(2)"
   ]
  },
  {
   "cell_type": "code",
   "execution_count": 41,
   "metadata": {
    "collapsed": true
   },
   "outputs": [
    {
     "name": "stdout",
     "output_type": "stream",
     "text": [
      "the wsse for k=1 is 681.3706\n",
      "the wsse for k=2 is 152.34795176035792\n",
      "the wsse for k=3 is 78.85144142614601\n",
      "the wsse for k=4 is 57.228473214285714\n",
      "the wsse for k=5 is 46.472230158730156\n",
      "the wsse for k=6 is 39.03998724608725\n",
      "the wsse for k=7 is 34.299712121212124\n"
     ]
    }
   ],
   "source": [
    "x=df.iloc[:,0:4]\n",
    "range_k=range(1,8)\n",
    "wsse_list=[]\n",
    "from sklearn.cluster import KMeans\n",
    "for k in range_k:\n",
    "    model=KMeans(n_clusters=k)\n",
    "    model.fit(x)\n",
    "    wsse=model.inertia_\n",
    "    wsse_list.append(wsse)\n",
    "    print(\"the wsse for k={} is {}\".format(k,wsse))"
   ]
  },
  {
   "cell_type": "code",
   "execution_count": 43,
   "metadata": {},
   "outputs": [
    {
     "data": {
      "image/png": "[encoded data removed]",
      "text/plain": [
       "<Figure size 432x288 with 1 Axes>"
      ]
     },
     "metadata": {
      "needs_background": "light"
     },
     "output_type": "display_data"
    }
   ],
   "source": [
    "import matplotlib.pyplot as plt\n",
    "x1=range_k\n",
    "y1=wsse_list\n",
    "plt.plot(x1,y1,marker='o')\n",
    "plt.show()"
   ]
  },
  {
   "cell_type": "code",
   "execution_count": 44,
   "metadata": {},
   "outputs": [
    {
     "data": {
      "text/plain": [
       "KMeans(algorithm='auto', copy_x=True, init='k-means++', max_iter=300,\n",
       "       n_clusters=3, n_init=10, n_jobs=None, precompute_distances='auto',\n",
       "       random_state=None, tol=0.0001, verbose=0)"
      ]
     },
     "execution_count": 44,
     "metadata": {},
     "output_type": "execute_result"
    }
   ],
   "source": [
    "from sklearn.cluster import KMeans\n",
    "model=KMeans(n_clusters=3)\n",
    "model.fit(x)"
   ]
  },
  {
   "cell_type": "code",
   "execution_count": 46,
   "metadata": {},
   "outputs": [
    {
     "data": {
      "text/plain": [
       "array([1, 1, 1, 1, 1, 1, 1, 1, 1, 1, 1, 1, 1, 1, 1, 1, 1, 1, 1, 1, 1, 1,\n",
       "       1, 1, 1, 1, 1, 1, 1, 1, 1, 1, 1, 1, 1, 1, 1, 1, 1, 1, 1, 1, 1, 1,\n",
       "       1, 1, 1, 1, 1, 1, 2, 2, 0, 2, 2, 2, 2, 2, 2, 2, 2, 2, 2, 2, 2, 2,\n",
       "       2, 2, 2, 2, 2, 2, 2, 2, 2, 2, 2, 0, 2, 2, 2, 2, 2, 2, 2, 2, 2, 2,\n",
       "       2, 2, 2, 2, 2, 2, 2, 2, 2, 2, 2, 2, 0, 2, 0, 0, 0, 0, 2, 0, 0, 0,\n",
       "       0, 0, 0, 2, 2, 0, 0, 0, 0, 2, 0, 2, 0, 2, 0, 0, 2, 2, 0, 0, 0, 0,\n",
       "       0, 2, 0, 0, 0, 0, 2, 0, 0, 0, 2, 0, 0, 0, 2, 0, 0, 2])"
      ]
     },
     "execution_count": 46,
     "metadata": {},
     "output_type": "execute_result"
    }
   ],
   "source": [
    "pred_out=model.predict(x)\n",
    "pred_out"
   ]
  },
  {
   "cell_type": "code",
   "execution_count": 47,
   "metadata": {},
   "outputs": [
    {
     "data": {
      "text/html": [
       "<div>\n",
       "<style scoped>\n",
       "    .dataframe tbody tr th:only-of-type {\n",
       "        vertical-align: middle;\n",
       "    }\n",
       "\n",
       "    .dataframe tbody tr th {\n",
       "        vertical-align: top;\n",
       "    }\n",
       "\n",
       "    .dataframe thead th {\n",
       "        text-align: right;\n",
       "    }\n",
       "</style>\n",
       "<table border=\"1\" class=\"dataframe\">\n",
       "  <thead>\n",
       "    <tr style=\"text-align: right;\">\n",
       "      <th></th>\n",
       "      <th>sepal length (cm)</th>\n",
       "      <th>sepal width (cm)</th>\n",
       "      <th>petal length (cm)</th>\n",
       "      <th>petal width (cm)</th>\n",
       "      <th>pred_target</th>\n",
       "    </tr>\n",
       "  </thead>\n",
       "  <tbody>\n",
       "    <tr>\n",
       "      <th>0</th>\n",
       "      <td>5.1</td>\n",
       "      <td>3.5</td>\n",
       "      <td>1.4</td>\n",
       "      <td>0.2</td>\n",
       "      <td>1</td>\n",
       "    </tr>\n",
       "    <tr>\n",
       "      <th>1</th>\n",
       "      <td>4.9</td>\n",
       "      <td>3.0</td>\n",
       "      <td>1.4</td>\n",
       "      <td>0.2</td>\n",
       "      <td>1</td>\n",
       "    </tr>\n",
       "  </tbody>\n",
       "</table>\n",
       "</div>"
      ],
      "text/plain": [
       "   sepal length (cm)  sepal width (cm)  petal length (cm)  petal width (cm)  \\\n",
       "0                5.1               3.5                1.4               0.2   \n",
       "1                4.9               3.0                1.4               0.2   \n",
       "\n",
       "   pred_target  \n",
       "0            1  \n",
       "1            1  "
      ]
     },
     "execution_count": 47,
     "metadata": {},
     "output_type": "execute_result"
    }
   ],
   "source": [
    "df[\"pred_target\"]=pred_out\n",
    "df.head(2)"
   ]
  },
  {
   "cell_type": "code",
   "execution_count": 49,
   "metadata": {},
   "outputs": [
    {
     "data": {
      "text/plain": [
       "2    62\n",
       "1    50\n",
       "0    38\n",
       "Name: pred_target, dtype: int64"
      ]
     },
     "execution_count": 49,
     "metadata": {},
     "output_type": "execute_result"
    }
   ],
   "source": [
    "df[\"pred_target\"].value_counts()"
   ]
  },
  {
   "cell_type": "markdown",
   "metadata": {},
   "source": [
    "***exam timings:6:45pm to 7:15pm***"
   ]
  },
  {
   "cell_type": "code",
   "execution_count": null,
   "metadata": {},
   "outputs": [],
   "source": [
    "range(1,8)\n",
    "1,2,3,4,5,6,7"
   ]
  }
 ],
 "metadata": {
  "kernelspec": {
   "display_name": "Python 3",
   "language": "python",
   "name": "python3"
  },
  "language_info": {
   "codemirror_mode": {
    "name": "ipython",
    "version": 3
   },
   "file_extension": ".py",
   "mimetype": "text/x-python",
   "name": "python",
   "nbconvert_exporter": "python",
   "pygments_lexer": "ipython3",
   "version": "3.7.3"
  }
 },
 "nbformat": 4,
 "nbformat_minor": 2
}
